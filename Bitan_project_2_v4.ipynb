{
 "cells": [
  {
   "cell_type": "markdown",
   "metadata": {},
   "source": [
    "# Project - 2 (Store opening prediction - Binary classification problem)"
   ]
  },
  {
   "cell_type": "markdown",
   "metadata": {},
   "source": [
    "Each row represnts characteristic of a single planned store [planned does not mean opened].\n",
    "Many categorical data has been coded to mask the data, you dont need to worry about their \n",
    "exact meaning if not clear\n",
    "\n",
    "Id : Store ID \n",
    "numeric sale figures for 5 types :\n",
    "1. sales0\n",
    "2. sales1\n",
    "3. sales2\n",
    "4. sales3\n",
    "5. sales4\n",
    "\n",
    "6. country : categorical :: coded values for country \n",
    "7. State : categorical :: coded values for State\n",
    "8. CouSub : numeric :: subscription values at county level\n",
    "9. countyname : Categorical :: county names\n",
    "10. storecode : categorical :: store codes , this should not be used as is but can be source of a feature\n",
    "11. Areaname : categorical :: name of the area , many times matches with county name\n",
    "12. countytownname : categorical :: county town name\n",
    "13. population : numeric :: population of the store area\n",
    "14. state_alpha : categorical :: short codes for state\n",
    "15. store_Type : categorical :: type of store \n",
    "\n",
    "16. store : categorical 1/0 : target indicator var 1=opened 0=not opened "
   ]
  },
  {
   "cell_type": "markdown",
   "metadata": {},
   "source": [
    "## A. Importing necessary libraries"
   ]
  },
  {
   "cell_type": "code",
   "execution_count": 1,
   "metadata": {},
   "outputs": [],
   "source": [
    "#Import the Libraries\n",
    "\n",
    "import numpy as np\n",
    "import pandas as pd\n",
    "\n",
    "import matplotlib.pyplot as plt\n",
    "%matplotlib inline\n",
    "\n",
    "import seaborn as sns\n",
    "sns.set(color_codes=True)\n",
    "\n",
    "import sklearn\n",
    "from sklearn.model_selection import train_test_split\n",
    "from sklearn.preprocessing import StandardScaler"
   ]
  },
  {
   "cell_type": "code",
   "execution_count": 2,
   "metadata": {},
   "outputs": [],
   "source": [
    "import warnings\n",
    "warnings.filterwarnings('ignore')\n",
    "\n",
    "from IPython.core.interactiveshell import InteractiveShell\n",
    "InteractiveShell.ast_node_interactivity = \"all\""
   ]
  },
  {
   "cell_type": "markdown",
   "metadata": {},
   "source": [
    "## B. Data import and sanity checks"
   ]
  },
  {
   "cell_type": "code",
   "execution_count": 3,
   "metadata": {},
   "outputs": [],
   "source": [
    "#Getting the Data from the .csv file\n",
    "data = pd.read_csv('store_train.csv', encoding='latin-1')"
   ]
  },
  {
   "cell_type": "code",
   "execution_count": 4,
   "metadata": {},
   "outputs": [
    {
     "data": {
      "text/html": [
       "<div>\n",
       "<style scoped>\n",
       "    .dataframe tbody tr th:only-of-type {\n",
       "        vertical-align: middle;\n",
       "    }\n",
       "\n",
       "    .dataframe tbody tr th {\n",
       "        vertical-align: top;\n",
       "    }\n",
       "\n",
       "    .dataframe thead th {\n",
       "        text-align: right;\n",
       "    }\n",
       "</style>\n",
       "<table border=\"1\" class=\"dataframe\">\n",
       "  <thead>\n",
       "    <tr style=\"text-align: right;\">\n",
       "      <th></th>\n",
       "      <th>Id</th>\n",
       "      <th>sales0</th>\n",
       "      <th>sales1</th>\n",
       "      <th>sales2</th>\n",
       "      <th>sales3</th>\n",
       "      <th>sales4</th>\n",
       "      <th>country</th>\n",
       "      <th>State</th>\n",
       "      <th>CouSub</th>\n",
       "      <th>countyname</th>\n",
       "      <th>storecode</th>\n",
       "      <th>Areaname</th>\n",
       "      <th>countytownname</th>\n",
       "      <th>population</th>\n",
       "      <th>state_alpha</th>\n",
       "      <th>store_Type</th>\n",
       "      <th>store</th>\n",
       "    </tr>\n",
       "  </thead>\n",
       "  <tbody>\n",
       "    <tr>\n",
       "      <th>0</th>\n",
       "      <td>2300919770</td>\n",
       "      <td>848</td>\n",
       "      <td>588</td>\n",
       "      <td>666</td>\n",
       "      <td>1116</td>\n",
       "      <td>1133</td>\n",
       "      <td>9</td>\n",
       "      <td>23</td>\n",
       "      <td>19770</td>\n",
       "      <td>Hancock County</td>\n",
       "      <td>NCNTY23009N23009</td>\n",
       "      <td>Hancock County, ME</td>\n",
       "      <td>Eastbrook town</td>\n",
       "      <td>423.0</td>\n",
       "      <td>ME</td>\n",
       "      <td>Supermarket Type1</td>\n",
       "      <td>0</td>\n",
       "    </tr>\n",
       "    <tr>\n",
       "      <th>1</th>\n",
       "      <td>5000129575</td>\n",
       "      <td>925</td>\n",
       "      <td>717</td>\n",
       "      <td>780</td>\n",
       "      <td>1283</td>\n",
       "      <td>1550</td>\n",
       "      <td>1</td>\n",
       "      <td>50</td>\n",
       "      <td>29575</td>\n",
       "      <td>Addison County</td>\n",
       "      <td>NCNTY50001N50001</td>\n",
       "      <td>Addison County, VT</td>\n",
       "      <td>Granville town</td>\n",
       "      <td>298.0</td>\n",
       "      <td>VT</td>\n",
       "      <td>Supermarket Type1</td>\n",
       "      <td>0</td>\n",
       "    </tr>\n",
       "  </tbody>\n",
       "</table>\n",
       "</div>"
      ],
      "text/plain": [
       "           Id  sales0  sales1  sales2  sales3  sales4  country  State  CouSub  \\\n",
       "0  2300919770     848     588     666    1116    1133        9     23   19770   \n",
       "1  5000129575     925     717     780    1283    1550        1     50   29575   \n",
       "\n",
       "       countyname         storecode            Areaname  countytownname  \\\n",
       "0  Hancock County  NCNTY23009N23009  Hancock County, ME  Eastbrook town   \n",
       "1  Addison County  NCNTY50001N50001  Addison County, VT  Granville town   \n",
       "\n",
       "   population state_alpha         store_Type  store  \n",
       "0       423.0          ME  Supermarket Type1      0  \n",
       "1       298.0          VT  Supermarket Type1      0  "
      ]
     },
     "execution_count": 4,
     "metadata": {},
     "output_type": "execute_result"
    }
   ],
   "source": [
    "data.head(2)"
   ]
  },
  {
   "cell_type": "code",
   "execution_count": 5,
   "metadata": {},
   "outputs": [
    {
     "name": "stdout",
     "output_type": "stream",
     "text": [
      "(3338, 17)\n"
     ]
    }
   ],
   "source": [
    "# understand shape and size of dataset\n",
    "print(data.shape)"
   ]
  },
  {
   "cell_type": "code",
   "execution_count": 6,
   "metadata": {},
   "outputs": [
    {
     "name": "stdout",
     "output_type": "stream",
     "text": [
      "<class 'pandas.core.frame.DataFrame'>\n",
      "RangeIndex: 3338 entries, 0 to 3337\n",
      "Data columns (total 17 columns):\n",
      " #   Column          Non-Null Count  Dtype  \n",
      "---  ------          --------------  -----  \n",
      " 0   Id              3338 non-null   int64  \n",
      " 1   sales0          3338 non-null   int64  \n",
      " 2   sales1          3338 non-null   int64  \n",
      " 3   sales2          3338 non-null   int64  \n",
      " 4   sales3          3338 non-null   int64  \n",
      " 5   sales4          3338 non-null   int64  \n",
      " 6   country         3338 non-null   int64  \n",
      " 7   State           3338 non-null   int64  \n",
      " 8   CouSub          3338 non-null   int64  \n",
      " 9   countyname      3338 non-null   object \n",
      " 10  storecode       3338 non-null   object \n",
      " 11  Areaname        3338 non-null   object \n",
      " 12  countytownname  3338 non-null   object \n",
      " 13  population      3337 non-null   float64\n",
      " 14  state_alpha     3338 non-null   object \n",
      " 15  store_Type      3338 non-null   object \n",
      " 16  store           3338 non-null   int64  \n",
      "dtypes: float64(1), int64(10), object(6)\n",
      "memory usage: 443.5+ KB\n"
     ]
    }
   ],
   "source": [
    "# Checking the overall data types\n",
    "data.info()  # No null rows"
   ]
  },
  {
   "cell_type": "code",
   "execution_count": 7,
   "metadata": {},
   "outputs": [
    {
     "data": {
      "text/html": [
       "<div>\n",
       "<style scoped>\n",
       "    .dataframe tbody tr th:only-of-type {\n",
       "        vertical-align: middle;\n",
       "    }\n",
       "\n",
       "    .dataframe tbody tr th {\n",
       "        vertical-align: top;\n",
       "    }\n",
       "\n",
       "    .dataframe thead th {\n",
       "        text-align: right;\n",
       "    }\n",
       "</style>\n",
       "<table border=\"1\" class=\"dataframe\">\n",
       "  <thead>\n",
       "    <tr style=\"text-align: right;\">\n",
       "      <th></th>\n",
       "      <th>Id</th>\n",
       "      <th>sales0</th>\n",
       "      <th>sales1</th>\n",
       "      <th>sales2</th>\n",
       "      <th>sales3</th>\n",
       "      <th>sales4</th>\n",
       "      <th>country</th>\n",
       "      <th>State</th>\n",
       "      <th>CouSub</th>\n",
       "      <th>population</th>\n",
       "      <th>store</th>\n",
       "    </tr>\n",
       "  </thead>\n",
       "  <tbody>\n",
       "    <tr>\n",
       "      <th>count</th>\n",
       "      <td>3.338000e+03</td>\n",
       "      <td>3338.000000</td>\n",
       "      <td>3338.000000</td>\n",
       "      <td>3338.00000</td>\n",
       "      <td>3338.000000</td>\n",
       "      <td>3338.000000</td>\n",
       "      <td>3338.000000</td>\n",
       "      <td>3338.000000</td>\n",
       "      <td>3338.000000</td>\n",
       "      <td>3.337000e+03</td>\n",
       "      <td>3338.000000</td>\n",
       "    </tr>\n",
       "    <tr>\n",
       "      <th>mean</th>\n",
       "      <td>3.024341e+09</td>\n",
       "      <td>809.332534</td>\n",
       "      <td>570.453865</td>\n",
       "      <td>641.10695</td>\n",
       "      <td>1067.905932</td>\n",
       "      <td>1218.340024</td>\n",
       "      <td>73.943679</td>\n",
       "      <td>30.168664</td>\n",
       "      <td>80731.565608</td>\n",
       "      <td>7.076434e+04</td>\n",
       "      <td>0.438286</td>\n",
       "    </tr>\n",
       "    <tr>\n",
       "      <th>std</th>\n",
       "      <td>1.500609e+09</td>\n",
       "      <td>236.005440</td>\n",
       "      <td>168.792737</td>\n",
       "      <td>189.71265</td>\n",
       "      <td>298.884119</td>\n",
       "      <td>352.002767</td>\n",
       "      <td>96.602661</td>\n",
       "      <td>14.991198</td>\n",
       "      <td>30818.495056</td>\n",
       "      <td>2.855594e+05</td>\n",
       "      <td>0.496251</td>\n",
       "    </tr>\n",
       "    <tr>\n",
       "      <th>min</th>\n",
       "      <td>1.002000e+08</td>\n",
       "      <td>405.000000</td>\n",
       "      <td>314.000000</td>\n",
       "      <td>327.00000</td>\n",
       "      <td>519.000000</td>\n",
       "      <td>570.000000</td>\n",
       "      <td>1.000000</td>\n",
       "      <td>1.000000</td>\n",
       "      <td>100.000000</td>\n",
       "      <td>0.000000e+00</td>\n",
       "      <td>0.000000</td>\n",
       "    </tr>\n",
       "    <tr>\n",
       "      <th>25%</th>\n",
       "      <td>2.105250e+09</td>\n",
       "      <td>643.000000</td>\n",
       "      <td>453.000000</td>\n",
       "      <td>502.00000</td>\n",
       "      <td>860.000000</td>\n",
       "      <td>953.500000</td>\n",
       "      <td>13.000000</td>\n",
       "      <td>21.000000</td>\n",
       "      <td>64102.500000</td>\n",
       "      <td>4.247000e+03</td>\n",
       "      <td>0.000000</td>\n",
       "    </tr>\n",
       "    <tr>\n",
       "      <th>50%</th>\n",
       "      <td>2.704800e+09</td>\n",
       "      <td>718.000000</td>\n",
       "      <td>519.000000</td>\n",
       "      <td>574.00000</td>\n",
       "      <td>960.000000</td>\n",
       "      <td>1132.000000</td>\n",
       "      <td>35.000000</td>\n",
       "      <td>27.000000</td>\n",
       "      <td>99999.000000</td>\n",
       "      <td>1.591100e+04</td>\n",
       "      <td>0.000000</td>\n",
       "    </tr>\n",
       "    <tr>\n",
       "      <th>75%</th>\n",
       "      <td>4.209750e+09</td>\n",
       "      <td>924.000000</td>\n",
       "      <td>647.000000</td>\n",
       "      <td>735.00000</td>\n",
       "      <td>1199.000000</td>\n",
       "      <td>1411.000000</td>\n",
       "      <td>106.500000</td>\n",
       "      <td>42.000000</td>\n",
       "      <td>99999.000000</td>\n",
       "      <td>4.274500e+04</td>\n",
       "      <td>1.000000</td>\n",
       "    </tr>\n",
       "    <tr>\n",
       "      <th>max</th>\n",
       "      <td>7.803100e+09</td>\n",
       "      <td>2062.000000</td>\n",
       "      <td>1291.000000</td>\n",
       "      <td>1635.00000</td>\n",
       "      <td>2801.000000</td>\n",
       "      <td>3386.000000</td>\n",
       "      <td>840.000000</td>\n",
       "      <td>78.000000</td>\n",
       "      <td>99999.000000</td>\n",
       "      <td>9.818605e+06</td>\n",
       "      <td>1.000000</td>\n",
       "    </tr>\n",
       "  </tbody>\n",
       "</table>\n",
       "</div>"
      ],
      "text/plain": [
       "                 Id       sales0       sales1      sales2       sales3  \\\n",
       "count  3.338000e+03  3338.000000  3338.000000  3338.00000  3338.000000   \n",
       "mean   3.024341e+09   809.332534   570.453865   641.10695  1067.905932   \n",
       "std    1.500609e+09   236.005440   168.792737   189.71265   298.884119   \n",
       "min    1.002000e+08   405.000000   314.000000   327.00000   519.000000   \n",
       "25%    2.105250e+09   643.000000   453.000000   502.00000   860.000000   \n",
       "50%    2.704800e+09   718.000000   519.000000   574.00000   960.000000   \n",
       "75%    4.209750e+09   924.000000   647.000000   735.00000  1199.000000   \n",
       "max    7.803100e+09  2062.000000  1291.000000  1635.00000  2801.000000   \n",
       "\n",
       "            sales4      country        State        CouSub    population  \\\n",
       "count  3338.000000  3338.000000  3338.000000   3338.000000  3.337000e+03   \n",
       "mean   1218.340024    73.943679    30.168664  80731.565608  7.076434e+04   \n",
       "std     352.002767    96.602661    14.991198  30818.495056  2.855594e+05   \n",
       "min     570.000000     1.000000     1.000000    100.000000  0.000000e+00   \n",
       "25%     953.500000    13.000000    21.000000  64102.500000  4.247000e+03   \n",
       "50%    1132.000000    35.000000    27.000000  99999.000000  1.591100e+04   \n",
       "75%    1411.000000   106.500000    42.000000  99999.000000  4.274500e+04   \n",
       "max    3386.000000   840.000000    78.000000  99999.000000  9.818605e+06   \n",
       "\n",
       "             store  \n",
       "count  3338.000000  \n",
       "mean      0.438286  \n",
       "std       0.496251  \n",
       "min       0.000000  \n",
       "25%       0.000000  \n",
       "50%       0.000000  \n",
       "75%       1.000000  \n",
       "max       1.000000  "
      ]
     },
     "execution_count": 7,
     "metadata": {},
     "output_type": "execute_result"
    }
   ],
   "source": [
    "#Details of the Dataset\n",
    "data.describe()"
   ]
  },
  {
   "cell_type": "code",
   "execution_count": 8,
   "metadata": {},
   "outputs": [
    {
     "name": "stdout",
     "output_type": "stream",
     "text": [
      "Id has 0 number of null values\n",
      "sales0 has 0 number of null values\n",
      "sales1 has 0 number of null values\n",
      "sales2 has 0 number of null values\n",
      "sales3 has 0 number of null values\n",
      "sales4 has 0 number of null values\n",
      "country has 0 number of null values\n",
      "State has 0 number of null values\n",
      "CouSub has 0 number of null values\n",
      "countyname has 0 number of null values\n",
      "storecode has 0 number of null values\n",
      "Areaname has 0 number of null values\n",
      "countytownname has 0 number of null values\n",
      "population has 1 number of null values\n",
      "state_alpha has 0 number of null values\n",
      "store_Type has 0 number of null values\n",
      "store has 0 number of null values\n"
     ]
    }
   ],
   "source": [
    "# Checking which column has null values and if yes - replacing those with median value of that column\n",
    "for col in list(data.columns):\n",
    "    print('{} has {} number of null values'.format(col, data[col].isnull().values.sum()))\n",
    "    \n",
    "#    if data[col].isnull().values.any():\n",
    "#        data[col] = data[col].fillna(data[col].median)\n",
    "#        print('replaced with median values')"
   ]
  },
  {
   "cell_type": "code",
   "execution_count": 9,
   "metadata": {},
   "outputs": [],
   "source": [
    "# Since only 1 row is affected by Null values, hence we are dropping that row\n",
    "data.dropna(inplace=True)"
   ]
  },
  {
   "cell_type": "code",
   "execution_count": 10,
   "metadata": {},
   "outputs": [],
   "source": [
    "# Taking in the test data\n",
    "\n",
    "test_data = pd.read_csv('store_test.csv', encoding='latin-1')\n",
    "result_data = test_data"
   ]
  },
  {
   "cell_type": "code",
   "execution_count": 11,
   "metadata": {},
   "outputs": [
    {
     "name": "stdout",
     "output_type": "stream",
     "text": [
      "Distribution of column countyname\n"
     ]
    },
    {
     "data": {
      "text/plain": [
       "Washington County    70\n",
       "Franklin County      61\n",
       "Middlesex County     54\n",
       "Aroostook County     48\n",
       "Essex County         45\n",
       "                     ..\n",
       "Jay County            1\n",
       "Fergus County         1\n",
       "Woodbury County       1\n",
       "Mower County          1\n",
       "Kaufman County        1\n",
       "Name: countyname, Length: 1491, dtype: int64"
      ]
     },
     "execution_count": 11,
     "metadata": {},
     "output_type": "execute_result"
    },
    {
     "name": "stdout",
     "output_type": "stream",
     "text": [
      "\n",
      "\n",
      "Distribution of column storecode\n"
     ]
    },
    {
     "data": {
      "text/plain": [
       "METRO14460MM1120    87\n",
       "NCNTY23003N23003    48\n",
       "METRO25540M25540    35\n",
       "METRO39300M39300    34\n",
       "METRO12620N23019    33\n",
       "                    ..\n",
       "NCNTY29127N29127     1\n",
       "METRO35620MM0875     1\n",
       "NCNTY19197N19197     1\n",
       "NCNTY47101N47101     1\n",
       "METRO41780M41780     1\n",
       "Name: storecode, Length: 1891, dtype: int64"
      ]
     },
     "execution_count": 11,
     "metadata": {},
     "output_type": "execute_result"
    },
    {
     "name": "stdout",
     "output_type": "stream",
     "text": [
      "\n",
      "\n",
      "Distribution of column Areaname\n"
     ]
    },
    {
     "data": {
      "text/plain": [
       "Boston-Cambridge-Quincy, MA-NH HUD Metro FMR Area              87\n",
       "Aroostook County, ME                                           48\n",
       "Hartford-West Hartford-East Hartford, CT HUD Metro FMR Area    35\n",
       "Providence-Fall River, RI-MA HUD Metro FMR Area                34\n",
       "Penobscot County, ME (part) HUD Metro FMR Area                 33\n",
       "                                                               ..\n",
       "Racine, WI MSA                                                  1\n",
       "Glades County, FL                                               1\n",
       "Knott County, KY                                                1\n",
       "Roane County, WV                                                1\n",
       "Saunders County, NE HUD Metro FMR Area                          1\n",
       "Name: Areaname, Length: 1891, dtype: int64"
      ]
     },
     "execution_count": 11,
     "metadata": {},
     "output_type": "execute_result"
    },
    {
     "name": "stdout",
     "output_type": "stream",
     "text": [
      "\n",
      "\n",
      "Distribution of column countytownname\n"
     ]
    },
    {
     "data": {
      "text/plain": [
       "Jackson County       20\n",
       "Washington County    17\n",
       "Jefferson County     16\n",
       "Franklin County      16\n",
       "Marion County        14\n",
       "                     ..\n",
       "Pemiscot County       1\n",
       "Lincolnville town     1\n",
       "Schuylkill County     1\n",
       "Boxborough town       1\n",
       "Haskell County        1\n",
       "Name: countytownname, Length: 2371, dtype: int64"
      ]
     },
     "execution_count": 11,
     "metadata": {},
     "output_type": "execute_result"
    },
    {
     "name": "stdout",
     "output_type": "stream",
     "text": [
      "\n",
      "\n",
      "Distribution of column state_alpha\n"
     ]
    },
    {
     "data": {
      "text/plain": [
       "ME    363\n",
       "MA    259\n",
       "NH    177\n",
       "VT    176\n",
       "TX    170\n",
       "CT    116\n",
       "GA    108\n",
       "VA     95\n",
       "MO     93\n",
       "KY     85\n",
       "KS     75\n",
       "NC     75\n",
       "IA     72\n",
       "IL     72\n",
       "IN     66\n",
       "TN     63\n",
       "OH     63\n",
       "NE     62\n",
       "MI     62\n",
       "OK     62\n",
       "MS     60\n",
       "MN     58\n",
       "AR     54\n",
       "PR     52\n",
       "CA     50\n",
       "WI     50\n",
       "PA     47\n",
       "AL     47\n",
       "NY     45\n",
       "FL     44\n",
       "SD     43\n",
       "CO     43\n",
       "LA     41\n",
       "WV     37\n",
       "MT     35\n",
       "ID     35\n",
       "SC     33\n",
       "RI     31\n",
       "ND     31\n",
       "WA     30\n",
       "NM     23\n",
       "AK     23\n",
       "UT     21\n",
       "OR     17\n",
       "WY     17\n",
       "MD     16\n",
       "NV     12\n",
       "AZ      9\n",
       "NJ      8\n",
       "HI      5\n",
       "DE      3\n",
       "DC      1\n",
       "VI      1\n",
       "GU      1\n",
       "Name: state_alpha, dtype: int64"
      ]
     },
     "execution_count": 11,
     "metadata": {},
     "output_type": "execute_result"
    },
    {
     "name": "stdout",
     "output_type": "stream",
     "text": [
      "\n",
      "\n",
      "Distribution of column store_Type\n"
     ]
    },
    {
     "data": {
      "text/plain": [
       "Supermarket Type1    2205\n",
       "Grocery Store         432\n",
       "Supermarket Type3     360\n",
       "Supermarket Type2     340\n",
       "Name: store_Type, dtype: int64"
      ]
     },
     "execution_count": 11,
     "metadata": {},
     "output_type": "execute_result"
    },
    {
     "name": "stdout",
     "output_type": "stream",
     "text": [
      "\n",
      "\n"
     ]
    }
   ],
   "source": [
    "# Checking the distribution of the column countyname\n",
    "for cat_col in ['countyname', 'storecode', 'Areaname', 'countytownname', 'state_alpha', 'store_Type']:\n",
    "    print('Distribution of column {}'.format(cat_col))\n",
    "    data[cat_col].value_counts()\n",
    "    print('\\n')"
   ]
  },
  {
   "cell_type": "code",
   "execution_count": 12,
   "metadata": {},
   "outputs": [
    {
     "data": {
      "image/png": "[encoded data removed]",
      "text/plain": [
       "<Figure size 432x288 with 1 Axes>"
      ]
     },
     "metadata": {},
     "output_type": "display_data"
    }
   ],
   "source": [
    "# Checking the distribution of the dependent/store column\n",
    "\n",
    "sns.set(style=\"darkgrid\")\n",
    "ax = sns.countplot(x= 'store', data=data)"
   ]
  },
  {
   "cell_type": "markdown",
   "metadata": {},
   "source": [
    "## C. Converting categorical columns to numbercal values"
   ]
  },
  {
   "cell_type": "code",
   "execution_count": 13,
   "metadata": {},
   "outputs": [],
   "source": [
    "train_data = data # making a copy of the training data"
   ]
  },
  {
   "cell_type": "code",
   "execution_count": 14,
   "metadata": {},
   "outputs": [],
   "source": [
    "all_data = pd.concat([train_data, test_data], ignore_index=True, sort=False)"
   ]
  },
  {
   "cell_type": "code",
   "execution_count": 15,
   "metadata": {},
   "outputs": [],
   "source": [
    "# Converting the countyname column\n",
    "countyname_keys = list(all_data['countyname'].unique())\n",
    "countyname_dict = {countyname_keys[i]: i for i in range(len(countyname_keys))}\n",
    "\n",
    "# Converting the storecode column\n",
    "storecode_keys = list(all_data['storecode'].unique())\n",
    "storecode_dict = {storecode_keys[i]: i for i in range(len(storecode_keys))}\n",
    "\n",
    "# Converting the Areaname column\n",
    "Areaname_keys = list(all_data['Areaname'].unique())\n",
    "Areaname_dict = {Areaname_keys[i]: i for i in range(len(Areaname_keys))}\n",
    "\n",
    "# Converting the countytownname column\n",
    "countytownname_keys = list(all_data['countytownname'].unique())\n",
    "countytownname_dict = {countytownname_keys[i]: i for i in range(len(countytownname_keys))}\n",
    "\n",
    "# Converting the state_alpha column\n",
    "state_alpha_keys = list(all_data['state_alpha'].unique())\n",
    "state_alpha_dict = {state_alpha_keys[i]: i for i in range(len(state_alpha_keys))}\n",
    "\n",
    "# Converting the store_Type column\n",
    "store_Type_keys = list(all_data['store_Type'].unique())\n",
    "store_Type_dict = {store_Type_keys[i]: i for i in range(len(store_Type_keys))}"
   ]
  },
  {
   "cell_type": "code",
   "execution_count": 16,
   "metadata": {},
   "outputs": [],
   "source": [
    "train_data = train_data.drop('Id', axis=1) # Dropping the ID column"
   ]
  },
  {
   "cell_type": "code",
   "execution_count": 17,
   "metadata": {},
   "outputs": [],
   "source": [
    "# Replacing all the categorical columns with the help of the dictionaries\n",
    "\n",
    "train_data['countyname'].replace(countyname_dict, inplace=True)\n",
    "train_data['storecode'].replace(storecode_dict, inplace=True)\n",
    "train_data['Areaname'].replace(Areaname_dict, inplace=True)\n",
    "train_data['countytownname'].replace(countytownname_dict, inplace=True)\n",
    "train_data['state_alpha'].replace(state_alpha_dict, inplace=True)\n",
    "train_data['store_Type'].replace(store_Type_dict, inplace=True)"
   ]
  },
  {
   "cell_type": "code",
   "execution_count": 18,
   "metadata": {},
   "outputs": [
    {
     "name": "stdout",
     "output_type": "stream",
     "text": [
      "<class 'pandas.core.frame.DataFrame'>\n",
      "Int64Index: 3337 entries, 0 to 3337\n",
      "Data columns (total 16 columns):\n",
      " #   Column          Non-Null Count  Dtype  \n",
      "---  ------          --------------  -----  \n",
      " 0   sales0          3337 non-null   int64  \n",
      " 1   sales1          3337 non-null   int64  \n",
      " 2   sales2          3337 non-null   int64  \n",
      " 3   sales3          3337 non-null   int64  \n",
      " 4   sales4          3337 non-null   int64  \n",
      " 5   country         3337 non-null   int64  \n",
      " 6   State           3337 non-null   int64  \n",
      " 7   CouSub          3337 non-null   int64  \n",
      " 8   countyname      3337 non-null   int64  \n",
      " 9   storecode       3337 non-null   int64  \n",
      " 10  Areaname        3337 non-null   int64  \n",
      " 11  countytownname  3337 non-null   int64  \n",
      " 12  population      3337 non-null   float64\n",
      " 13  state_alpha     3337 non-null   int64  \n",
      " 14  store_Type      3337 non-null   int64  \n",
      " 15  store           3337 non-null   int64  \n",
      "dtypes: float64(1), int64(15)\n",
      "memory usage: 603.2 KB\n"
     ]
    }
   ],
   "source": [
    "train_data.info()"
   ]
  },
  {
   "cell_type": "markdown",
   "metadata": {},
   "source": [
    "## D. Checking the correlation among columns"
   ]
  },
  {
   "cell_type": "code",
   "execution_count": 19,
   "metadata": {},
   "outputs": [],
   "source": [
    "# plotting pair plot for finding the corelation between the independent variables:\n",
    "#sns.pairplot(train_data ,markers=\"+\", diag_kind='kde')\n",
    "#plt.figure(figsize=(20,20))"
   ]
  },
  {
   "cell_type": "code",
   "execution_count": 20,
   "metadata": {},
   "outputs": [
    {
     "data": {
      "text/html": [
       "<div>\n",
       "<style scoped>\n",
       "    .dataframe tbody tr th:only-of-type {\n",
       "        vertical-align: middle;\n",
       "    }\n",
       "\n",
       "    .dataframe tbody tr th {\n",
       "        vertical-align: top;\n",
       "    }\n",
       "\n",
       "    .dataframe thead th {\n",
       "        text-align: right;\n",
       "    }\n",
       "</style>\n",
       "<table border=\"1\" class=\"dataframe\">\n",
       "  <thead>\n",
       "    <tr style=\"text-align: right;\">\n",
       "      <th></th>\n",
       "      <th>sales0</th>\n",
       "      <th>sales1</th>\n",
       "      <th>sales2</th>\n",
       "      <th>sales3</th>\n",
       "      <th>sales4</th>\n",
       "      <th>country</th>\n",
       "      <th>State</th>\n",
       "      <th>CouSub</th>\n",
       "      <th>countyname</th>\n",
       "      <th>storecode</th>\n",
       "      <th>Areaname</th>\n",
       "      <th>countytownname</th>\n",
       "      <th>population</th>\n",
       "      <th>state_alpha</th>\n",
       "      <th>store_Type</th>\n",
       "      <th>store</th>\n",
       "    </tr>\n",
       "  </thead>\n",
       "  <tbody>\n",
       "    <tr>\n",
       "      <th>sales0</th>\n",
       "      <td>1.000000</td>\n",
       "      <td>0.953189</td>\n",
       "      <td>0.987668</td>\n",
       "      <td>0.978740</td>\n",
       "      <td>0.944704</td>\n",
       "      <td>-0.211660</td>\n",
       "      <td>-0.131488</td>\n",
       "      <td>-0.443430</td>\n",
       "      <td>-0.228135</td>\n",
       "      <td>-0.394983</td>\n",
       "      <td>-0.394983</td>\n",
       "      <td>0.100281</td>\n",
       "      <td>0.178711</td>\n",
       "      <td>-0.130521</td>\n",
       "      <td>-0.000707</td>\n",
       "      <td>0.318048</td>\n",
       "    </tr>\n",
       "    <tr>\n",
       "      <th>sales1</th>\n",
       "      <td>0.953189</td>\n",
       "      <td>1.000000</td>\n",
       "      <td>0.960939</td>\n",
       "      <td>0.930821</td>\n",
       "      <td>0.900522</td>\n",
       "      <td>-0.199434</td>\n",
       "      <td>-0.094708</td>\n",
       "      <td>-0.454938</td>\n",
       "      <td>-0.235189</td>\n",
       "      <td>-0.410283</td>\n",
       "      <td>-0.410283</td>\n",
       "      <td>0.106405</td>\n",
       "      <td>0.155749</td>\n",
       "      <td>-0.159065</td>\n",
       "      <td>0.000153</td>\n",
       "      <td>0.281907</td>\n",
       "    </tr>\n",
       "    <tr>\n",
       "      <th>sales2</th>\n",
       "      <td>0.987668</td>\n",
       "      <td>0.960939</td>\n",
       "      <td>1.000000</td>\n",
       "      <td>0.967632</td>\n",
       "      <td>0.939780</td>\n",
       "      <td>-0.211411</td>\n",
       "      <td>-0.117094</td>\n",
       "      <td>-0.454103</td>\n",
       "      <td>-0.234884</td>\n",
       "      <td>-0.418961</td>\n",
       "      <td>-0.418961</td>\n",
       "      <td>0.103449</td>\n",
       "      <td>0.184894</td>\n",
       "      <td>-0.143185</td>\n",
       "      <td>0.002992</td>\n",
       "      <td>0.325791</td>\n",
       "    </tr>\n",
       "    <tr>\n",
       "      <th>sales3</th>\n",
       "      <td>0.978740</td>\n",
       "      <td>0.930821</td>\n",
       "      <td>0.967632</td>\n",
       "      <td>1.000000</td>\n",
       "      <td>0.956004</td>\n",
       "      <td>-0.184333</td>\n",
       "      <td>-0.142587</td>\n",
       "      <td>-0.383370</td>\n",
       "      <td>-0.183188</td>\n",
       "      <td>-0.351437</td>\n",
       "      <td>-0.351437</td>\n",
       "      <td>0.096181</td>\n",
       "      <td>0.210283</td>\n",
       "      <td>-0.096387</td>\n",
       "      <td>0.002442</td>\n",
       "      <td>0.320839</td>\n",
       "    </tr>\n",
       "    <tr>\n",
       "      <th>sales4</th>\n",
       "      <td>0.944704</td>\n",
       "      <td>0.900522</td>\n",
       "      <td>0.939780</td>\n",
       "      <td>0.956004</td>\n",
       "      <td>1.000000</td>\n",
       "      <td>-0.165720</td>\n",
       "      <td>-0.118148</td>\n",
       "      <td>-0.357830</td>\n",
       "      <td>-0.172462</td>\n",
       "      <td>-0.347444</td>\n",
       "      <td>-0.347444</td>\n",
       "      <td>0.092967</td>\n",
       "      <td>0.219664</td>\n",
       "      <td>-0.082292</td>\n",
       "      <td>-0.002554</td>\n",
       "      <td>0.316333</td>\n",
       "    </tr>\n",
       "    <tr>\n",
       "      <th>country</th>\n",
       "      <td>-0.211660</td>\n",
       "      <td>-0.199434</td>\n",
       "      <td>-0.211411</td>\n",
       "      <td>-0.184333</td>\n",
       "      <td>-0.165720</td>\n",
       "      <td>1.000000</td>\n",
       "      <td>0.150750</td>\n",
       "      <td>0.392266</td>\n",
       "      <td>0.279916</td>\n",
       "      <td>0.242512</td>\n",
       "      <td>0.242512</td>\n",
       "      <td>-0.034766</td>\n",
       "      <td>0.026169</td>\n",
       "      <td>0.261538</td>\n",
       "      <td>0.045582</td>\n",
       "      <td>-0.029898</td>\n",
       "    </tr>\n",
       "    <tr>\n",
       "      <th>State</th>\n",
       "      <td>-0.131488</td>\n",
       "      <td>-0.094708</td>\n",
       "      <td>-0.117094</td>\n",
       "      <td>-0.142587</td>\n",
       "      <td>-0.118148</td>\n",
       "      <td>0.150750</td>\n",
       "      <td>1.000000</td>\n",
       "      <td>0.068021</td>\n",
       "      <td>0.094819</td>\n",
       "      <td>-0.001710</td>\n",
       "      <td>-0.001710</td>\n",
       "      <td>0.036391</td>\n",
       "      <td>-0.048358</td>\n",
       "      <td>0.051460</td>\n",
       "      <td>0.002368</td>\n",
       "      <td>-0.042177</td>\n",
       "    </tr>\n",
       "    <tr>\n",
       "      <th>CouSub</th>\n",
       "      <td>-0.443430</td>\n",
       "      <td>-0.454938</td>\n",
       "      <td>-0.454103</td>\n",
       "      <td>-0.383370</td>\n",
       "      <td>-0.357830</td>\n",
       "      <td>0.392266</td>\n",
       "      <td>0.068021</td>\n",
       "      <td>1.000000</td>\n",
       "      <td>0.468323</td>\n",
       "      <td>0.534306</td>\n",
       "      <td>0.534306</td>\n",
       "      <td>-0.140053</td>\n",
       "      <td>0.134758</td>\n",
       "      <td>0.474195</td>\n",
       "      <td>-0.008405</td>\n",
       "      <td>-0.077121</td>\n",
       "    </tr>\n",
       "    <tr>\n",
       "      <th>countyname</th>\n",
       "      <td>-0.228135</td>\n",
       "      <td>-0.235189</td>\n",
       "      <td>-0.234884</td>\n",
       "      <td>-0.183188</td>\n",
       "      <td>-0.172462</td>\n",
       "      <td>0.279916</td>\n",
       "      <td>0.094819</td>\n",
       "      <td>0.468323</td>\n",
       "      <td>1.000000</td>\n",
       "      <td>0.621674</td>\n",
       "      <td>0.621674</td>\n",
       "      <td>0.595616</td>\n",
       "      <td>0.117804</td>\n",
       "      <td>0.314140</td>\n",
       "      <td>0.029730</td>\n",
       "      <td>-0.048708</td>\n",
       "    </tr>\n",
       "    <tr>\n",
       "      <th>storecode</th>\n",
       "      <td>-0.394983</td>\n",
       "      <td>-0.410283</td>\n",
       "      <td>-0.418961</td>\n",
       "      <td>-0.351437</td>\n",
       "      <td>-0.347444</td>\n",
       "      <td>0.242512</td>\n",
       "      <td>-0.001710</td>\n",
       "      <td>0.534306</td>\n",
       "      <td>0.621674</td>\n",
       "      <td>1.000000</td>\n",
       "      <td>1.000000</td>\n",
       "      <td>0.197133</td>\n",
       "      <td>0.038920</td>\n",
       "      <td>0.309279</td>\n",
       "      <td>0.001947</td>\n",
       "      <td>-0.198876</td>\n",
       "    </tr>\n",
       "    <tr>\n",
       "      <th>Areaname</th>\n",
       "      <td>-0.394983</td>\n",
       "      <td>-0.410283</td>\n",
       "      <td>-0.418961</td>\n",
       "      <td>-0.351437</td>\n",
       "      <td>-0.347444</td>\n",
       "      <td>0.242512</td>\n",
       "      <td>-0.001710</td>\n",
       "      <td>0.534306</td>\n",
       "      <td>0.621674</td>\n",
       "      <td>1.000000</td>\n",
       "      <td>1.000000</td>\n",
       "      <td>0.197133</td>\n",
       "      <td>0.038920</td>\n",
       "      <td>0.309279</td>\n",
       "      <td>0.001947</td>\n",
       "      <td>-0.198876</td>\n",
       "    </tr>\n",
       "    <tr>\n",
       "      <th>countytownname</th>\n",
       "      <td>0.100281</td>\n",
       "      <td>0.106405</td>\n",
       "      <td>0.103449</td>\n",
       "      <td>0.096181</td>\n",
       "      <td>0.092967</td>\n",
       "      <td>-0.034766</td>\n",
       "      <td>0.036391</td>\n",
       "      <td>-0.140053</td>\n",
       "      <td>0.595616</td>\n",
       "      <td>0.197133</td>\n",
       "      <td>0.197133</td>\n",
       "      <td>1.000000</td>\n",
       "      <td>0.015351</td>\n",
       "      <td>-0.074852</td>\n",
       "      <td>0.038764</td>\n",
       "      <td>0.006311</td>\n",
       "    </tr>\n",
       "    <tr>\n",
       "      <th>population</th>\n",
       "      <td>0.178711</td>\n",
       "      <td>0.155749</td>\n",
       "      <td>0.184894</td>\n",
       "      <td>0.210283</td>\n",
       "      <td>0.219664</td>\n",
       "      <td>0.026169</td>\n",
       "      <td>-0.048358</td>\n",
       "      <td>0.134758</td>\n",
       "      <td>0.117804</td>\n",
       "      <td>0.038920</td>\n",
       "      <td>0.038920</td>\n",
       "      <td>0.015351</td>\n",
       "      <td>1.000000</td>\n",
       "      <td>0.062351</td>\n",
       "      <td>-0.030766</td>\n",
       "      <td>0.137609</td>\n",
       "    </tr>\n",
       "    <tr>\n",
       "      <th>state_alpha</th>\n",
       "      <td>-0.130521</td>\n",
       "      <td>-0.159065</td>\n",
       "      <td>-0.143185</td>\n",
       "      <td>-0.096387</td>\n",
       "      <td>-0.082292</td>\n",
       "      <td>0.261538</td>\n",
       "      <td>0.051460</td>\n",
       "      <td>0.474195</td>\n",
       "      <td>0.314140</td>\n",
       "      <td>0.309279</td>\n",
       "      <td>0.309279</td>\n",
       "      <td>-0.074852</td>\n",
       "      <td>0.062351</td>\n",
       "      <td>1.000000</td>\n",
       "      <td>-0.019152</td>\n",
       "      <td>0.018283</td>\n",
       "    </tr>\n",
       "    <tr>\n",
       "      <th>store_Type</th>\n",
       "      <td>-0.000707</td>\n",
       "      <td>0.000153</td>\n",
       "      <td>0.002992</td>\n",
       "      <td>0.002442</td>\n",
       "      <td>-0.002554</td>\n",
       "      <td>0.045582</td>\n",
       "      <td>0.002368</td>\n",
       "      <td>-0.008405</td>\n",
       "      <td>0.029730</td>\n",
       "      <td>0.001947</td>\n",
       "      <td>0.001947</td>\n",
       "      <td>0.038764</td>\n",
       "      <td>-0.030766</td>\n",
       "      <td>-0.019152</td>\n",
       "      <td>1.000000</td>\n",
       "      <td>-0.009721</td>\n",
       "    </tr>\n",
       "    <tr>\n",
       "      <th>store</th>\n",
       "      <td>0.318048</td>\n",
       "      <td>0.281907</td>\n",
       "      <td>0.325791</td>\n",
       "      <td>0.320839</td>\n",
       "      <td>0.316333</td>\n",
       "      <td>-0.029898</td>\n",
       "      <td>-0.042177</td>\n",
       "      <td>-0.077121</td>\n",
       "      <td>-0.048708</td>\n",
       "      <td>-0.198876</td>\n",
       "      <td>-0.198876</td>\n",
       "      <td>0.006311</td>\n",
       "      <td>0.137609</td>\n",
       "      <td>0.018283</td>\n",
       "      <td>-0.009721</td>\n",
       "      <td>1.000000</td>\n",
       "    </tr>\n",
       "  </tbody>\n",
       "</table>\n",
       "</div>"
      ],
      "text/plain": [
       "                  sales0    sales1    sales2    sales3    sales4   country  \\\n",
       "sales0          1.000000  0.953189  0.987668  0.978740  0.944704 -0.211660   \n",
       "sales1          0.953189  1.000000  0.960939  0.930821  0.900522 -0.199434   \n",
       "sales2          0.987668  0.960939  1.000000  0.967632  0.939780 -0.211411   \n",
       "sales3          0.978740  0.930821  0.967632  1.000000  0.956004 -0.184333   \n",
       "sales4          0.944704  0.900522  0.939780  0.956004  1.000000 -0.165720   \n",
       "country        -0.211660 -0.199434 -0.211411 -0.184333 -0.165720  1.000000   \n",
       "State          -0.131488 -0.094708 -0.117094 -0.142587 -0.118148  0.150750   \n",
       "CouSub         -0.443430 -0.454938 -0.454103 -0.383370 -0.357830  0.392266   \n",
       "countyname     -0.228135 -0.235189 -0.234884 -0.183188 -0.172462  0.279916   \n",
       "storecode      -0.394983 -0.410283 -0.418961 -0.351437 -0.347444  0.242512   \n",
       "Areaname       -0.394983 -0.410283 -0.418961 -0.351437 -0.347444  0.242512   \n",
       "countytownname  0.100281  0.106405  0.103449  0.096181  0.092967 -0.034766   \n",
       "population      0.178711  0.155749  0.184894  0.210283  0.219664  0.026169   \n",
       "state_alpha    -0.130521 -0.159065 -0.143185 -0.096387 -0.082292  0.261538   \n",
       "store_Type     -0.000707  0.000153  0.002992  0.002442 -0.002554  0.045582   \n",
       "store           0.318048  0.281907  0.325791  0.320839  0.316333 -0.029898   \n",
       "\n",
       "                   State    CouSub  countyname  storecode  Areaname  \\\n",
       "sales0         -0.131488 -0.443430   -0.228135  -0.394983 -0.394983   \n",
       "sales1         -0.094708 -0.454938   -0.235189  -0.410283 -0.410283   \n",
       "sales2         -0.117094 -0.454103   -0.234884  -0.418961 -0.418961   \n",
       "sales3         -0.142587 -0.383370   -0.183188  -0.351437 -0.351437   \n",
       "sales4         -0.118148 -0.357830   -0.172462  -0.347444 -0.347444   \n",
       "country         0.150750  0.392266    0.279916   0.242512  0.242512   \n",
       "State           1.000000  0.068021    0.094819  -0.001710 -0.001710   \n",
       "CouSub          0.068021  1.000000    0.468323   0.534306  0.534306   \n",
       "countyname      0.094819  0.468323    1.000000   0.621674  0.621674   \n",
       "storecode      -0.001710  0.534306    0.621674   1.000000  1.000000   \n",
       "Areaname       -0.001710  0.534306    0.621674   1.000000  1.000000   \n",
       "countytownname  0.036391 -0.140053    0.595616   0.197133  0.197133   \n",
       "population     -0.048358  0.134758    0.117804   0.038920  0.038920   \n",
       "state_alpha     0.051460  0.474195    0.314140   0.309279  0.309279   \n",
       "store_Type      0.002368 -0.008405    0.029730   0.001947  0.001947   \n",
       "store          -0.042177 -0.077121   -0.048708  -0.198876 -0.198876   \n",
       "\n",
       "                countytownname  population  state_alpha  store_Type     store  \n",
       "sales0                0.100281    0.178711    -0.130521   -0.000707  0.318048  \n",
       "sales1                0.106405    0.155749    -0.159065    0.000153  0.281907  \n",
       "sales2                0.103449    0.184894    -0.143185    0.002992  0.325791  \n",
       "sales3                0.096181    0.210283    -0.096387    0.002442  0.320839  \n",
       "sales4                0.092967    0.219664    -0.082292   -0.002554  0.316333  \n",
       "country              -0.034766    0.026169     0.261538    0.045582 -0.029898  \n",
       "State                 0.036391   -0.048358     0.051460    0.002368 -0.042177  \n",
       "CouSub               -0.140053    0.134758     0.474195   -0.008405 -0.077121  \n",
       "countyname            0.595616    0.117804     0.314140    0.029730 -0.048708  \n",
       "storecode             0.197133    0.038920     0.309279    0.001947 -0.198876  \n",
       "Areaname              0.197133    0.038920     0.309279    0.001947 -0.198876  \n",
       "countytownname        1.000000    0.015351    -0.074852    0.038764  0.006311  \n",
       "population            0.015351    1.000000     0.062351   -0.030766  0.137609  \n",
       "state_alpha          -0.074852    0.062351     1.000000   -0.019152  0.018283  \n",
       "store_Type            0.038764   -0.030766    -0.019152    1.000000 -0.009721  \n",
       "store                 0.006311    0.137609     0.018283   -0.009721  1.000000  "
      ]
     },
     "execution_count": 20,
     "metadata": {},
     "output_type": "execute_result"
    }
   ],
   "source": [
    "# Checking the corelation coefficient of each variables :\n",
    "cor=train_data.corr()\n",
    "cor"
   ]
  },
  {
   "cell_type": "code",
   "execution_count": 21,
   "metadata": {},
   "outputs": [
    {
     "data": {
      "text/plain": [
       "(<Figure size 1080x1080 with 1 Axes>,\n",
       " <matplotlib.axes._subplots.AxesSubplot at 0x2ea54413850>)"
      ]
     },
     "execution_count": 21,
     "metadata": {},
     "output_type": "execute_result"
    },
    {
     "data": {
      "text/plain": [
       "<matplotlib.axes._subplots.AxesSubplot at 0x2ea54413850>"
      ]
     },
     "execution_count": 21,
     "metadata": {},
     "output_type": "execute_result"
    },
    {
     "data": {
      "image/png": "[encoded data removed]",
      "text/plain": [
       "<Figure size 1080x1080 with 2 Axes>"
      ]
     },
     "metadata": {},
     "output_type": "display_data"
    }
   ],
   "source": [
    "# Plotting the Heatmap with the variables\n",
    "\n",
    "plt.subplots(figsize=(15,15))\n",
    "sns.heatmap(cor,annot=True)"
   ]
  },
  {
   "cell_type": "code",
   "execution_count": 22,
   "metadata": {},
   "outputs": [
    {
     "data": {
      "text/plain": [
       "sales1          sales0        0.953189\n",
       "sales2          sales0        0.987668\n",
       "                sales1        0.960939\n",
       "sales3          sales0        0.978740\n",
       "                sales1        0.930821\n",
       "                sales2        0.967632\n",
       "sales4          sales0        0.944704\n",
       "                sales1        0.900522\n",
       "                sales2        0.939780\n",
       "                sales3        0.956004\n",
       "storecode       countyname    0.621674\n",
       "Areaname        countyname    0.621674\n",
       "                storecode     1.000000\n",
       "countytownname  countyname    0.595616\n",
       "dtype: float64"
      ]
     },
     "execution_count": 22,
     "metadata": {},
     "output_type": "execute_result"
    }
   ],
   "source": [
    "# Correlation plot | Checking which relations has the higher coefficients : \n",
    "cor.loc[:,:] = np.tril(cor, k=-1) # making the diagonal elements zeo\n",
    "\n",
    "high_cor = cor.stack()\n",
    "high_cor = high_cor[(high_cor > 0.55) | (high_cor < -0.55)]\n",
    "high_cor"
   ]
  },
  {
   "cell_type": "markdown",
   "metadata": {},
   "source": [
    "This investigation indicates that, all the salesX are highly corelated among them, and storecode is identical with Areaname."
   ]
  },
  {
   "cell_type": "code",
   "execution_count": 23,
   "metadata": {},
   "outputs": [],
   "source": [
    "#train_data = train_data.drop(['Areaname', 'sales1', 'countyname', 'sales2', 'sales3', 'sales4', 'countytownname'], axis=1) \n",
    "train_data = train_data.drop(['Areaname', 'countytownname', 'countyname'], axis=1)\n",
    "# Dropping the Areaname column as well"
   ]
  },
  {
   "cell_type": "code",
   "execution_count": 24,
   "metadata": {},
   "outputs": [],
   "source": [
    "#train_data = pd.get_dummies(train_data, columns=['country', 'State'])"
   ]
  },
  {
   "cell_type": "markdown",
   "metadata": {},
   "source": [
    "## E. Splitting the dataset and creating train and test sets"
   ]
  },
  {
   "cell_type": "code",
   "execution_count": 25,
   "metadata": {},
   "outputs": [],
   "source": [
    "# Sklearn package's data splitting function which is based on random function\n",
    "from sklearn.model_selection import train_test_split\n",
    "from sklearn.preprocessing import StandardScaler\n",
    "from sklearn.model_selection import GridSearchCV, StratifiedKFold, StratifiedShuffleSplit"
   ]
  },
  {
   "cell_type": "code",
   "execution_count": 26,
   "metadata": {},
   "outputs": [],
   "source": [
    "# Copy all the predictor variables into X dataframe. Since 'store' is dependent variable\n",
    "X = train_data.drop('store', axis=1)\n",
    "\n",
    "# Copy the 'store' column alone into the y dataframe. This is the dependent variable\n",
    "y = train_data[['store']]"
   ]
  },
  {
   "cell_type": "code",
   "execution_count": 27,
   "metadata": {},
   "outputs": [],
   "source": [
    "# Normalizing the all the features\n",
    "scaler = StandardScaler()\n",
    "X = scaler.fit_transform(X)"
   ]
  },
  {
   "cell_type": "code",
   "execution_count": 28,
   "metadata": {},
   "outputs": [],
   "source": [
    "# Split X and y into training and test set in 70:30 ratio\n",
    "X_train, X_test, y_train, y_test = train_test_split(X, y, test_size=0.20, random_state=1)"
   ]
  },
  {
   "cell_type": "code",
   "execution_count": 29,
   "metadata": {},
   "outputs": [],
   "source": [
    "# K-fold splits\n",
    "cv = StratifiedShuffleSplit(n_splits=10, test_size=.30, random_state=15)"
   ]
  },
  {
   "cell_type": "markdown",
   "metadata": {},
   "source": [
    "## F. Training ensemble classification models only"
   ]
  },
  {
   "cell_type": "code",
   "execution_count": 30,
   "metadata": {},
   "outputs": [],
   "source": [
    "# Importing the necessery classifcation algorithms\n",
    "\n",
    "from sklearn.tree import DecisionTreeClassifier\n",
    "from sklearn.ensemble import RandomForestClassifier\n",
    "from sklearn.ensemble import GradientBoostingClassifier\n",
    "from sklearn.metrics import mean_absolute_error, accuracy_score, classification_report, confusion_matrix"
   ]
  },
  {
   "cell_type": "markdown",
   "metadata": {},
   "source": [
    "### F1. Bagging model"
   ]
  },
  {
   "cell_type": "code",
   "execution_count": 31,
   "metadata": {},
   "outputs": [
    {
     "name": "stdout",
     "output_type": "stream",
     "text": [
      "Fitting 10 folds for each of 1 candidates, totalling 10 fits\n"
     ]
    },
    {
     "name": "stderr",
     "output_type": "stream",
     "text": [
      "[Parallel(n_jobs=-1)]: Using backend LokyBackend with 4 concurrent workers.\n",
      "[Parallel(n_jobs=-1)]: Done  10 out of  10 | elapsed:   20.8s finished\n"
     ]
    },
    {
     "data": {
      "text/plain": [
       "GridSearchCV(cv=StratifiedShuffleSplit(n_splits=10, random_state=15, test_size=0.3,\n",
       "            train_size=None),\n",
       "             estimator=RandomForestClassifier(), n_jobs=-1,\n",
       "             param_grid={'bootstrap': [False], 'criterion': ['entropy'],\n",
       "                         'max_features': [3], 'min_samples_leaf': [10],\n",
       "                         'min_samples_split': [10], 'n_estimators': [500]},\n",
       "             scoring='accuracy', verbose=1)"
      ]
     },
     "execution_count": 31,
     "metadata": {},
     "output_type": "execute_result"
    }
   ],
   "source": [
    "# Building our model with K-fold validation and GridSearch to find the best parameters\n",
    "\n",
    "# Defining all the parameters\n",
    "params = {\n",
    "    'max_features': [3],\n",
    "    'min_samples_split': [10],\n",
    "    'min_samples_leaf': [10],\n",
    "    'bootstrap': [False],\n",
    "    'n_estimators' :[500],\n",
    "    'criterion': [\"entropy\"]\n",
    "}\n",
    "\n",
    "# Building model\n",
    "rfc = RandomForestClassifier()\n",
    "\n",
    "# Parameter estimating using GridSearch\n",
    "grid = GridSearchCV(rfc, param_grid=params, scoring='accuracy', n_jobs =-1, cv=cv, verbose=1)\n",
    "\n",
    "# Fitting the model\n",
    "grid.fit(X_train, y_train)"
   ]
  },
  {
   "cell_type": "code",
   "execution_count": 32,
   "metadata": {},
   "outputs": [
    {
     "name": "stdout",
     "output_type": "stream",
     "text": [
      "Best Score: 0.784019975031211\n",
      "Best Params: {'bootstrap': False, 'criterion': 'entropy', 'max_features': 3, 'min_samples_leaf': 10, 'min_samples_split': 10, 'n_estimators': 500}\n",
      "Best Estimator: RandomForestClassifier(bootstrap=False, criterion='entropy', max_features=3,\n",
      "                       min_samples_leaf=10, min_samples_split=10,\n",
      "                       n_estimators=500)\n"
     ]
    }
   ],
   "source": [
    "rfc_grid_val_score = grid.best_score_\n",
    "print('Best Score:', rfc_grid_val_score)\n",
    "print('Best Params:', grid.best_params_)\n",
    "print('Best Estimator:', grid.best_estimator_)"
   ]
  },
  {
   "cell_type": "code",
   "execution_count": 33,
   "metadata": {},
   "outputs": [],
   "source": [
    "# Using the best parameters from the grid-search and predicting on test feature dataset(X_test)\n",
    "\n",
    "rfc_grid= grid.best_estimator_\n",
    "y_pred = rfc_grid.predict(X_test)"
   ]
  },
  {
   "cell_type": "code",
   "execution_count": 34,
   "metadata": {},
   "outputs": [
    {
     "data": {
      "text/html": [
       "<div>\n",
       "<style scoped>\n",
       "    .dataframe tbody tr th:only-of-type {\n",
       "        vertical-align: middle;\n",
       "    }\n",
       "\n",
       "    .dataframe tbody tr th {\n",
       "        vertical-align: top;\n",
       "    }\n",
       "\n",
       "    .dataframe thead th {\n",
       "        text-align: right;\n",
       "    }\n",
       "</style>\n",
       "<table border=\"1\" class=\"dataframe\">\n",
       "  <thead>\n",
       "    <tr style=\"text-align: right;\">\n",
       "      <th></th>\n",
       "      <th>Predicted A</th>\n",
       "      <th>Predicted T</th>\n",
       "    </tr>\n",
       "  </thead>\n",
       "  <tbody>\n",
       "    <tr>\n",
       "      <th>Actual A</th>\n",
       "      <td>331</td>\n",
       "      <td>54</td>\n",
       "    </tr>\n",
       "    <tr>\n",
       "      <th>Actual T</th>\n",
       "      <td>94</td>\n",
       "      <td>189</td>\n",
       "    </tr>\n",
       "  </tbody>\n",
       "</table>\n",
       "</div>"
      ],
      "text/plain": [
       "          Predicted A  Predicted T\n",
       "Actual A          331           54\n",
       "Actual T           94          189"
      ]
     },
     "execution_count": 34,
     "metadata": {},
     "output_type": "execute_result"
    }
   ],
   "source": [
    "# Confusion matrix\n",
    "\n",
    "pd.DataFrame(confusion_matrix(y_test,y_pred), columns=[\"Predicted A\", \"Predicted T\"], index=[\"Actual A\",\"Actual T\"] )"
   ]
  },
  {
   "cell_type": "markdown",
   "metadata": {},
   "source": [
    "### F2. Boosting "
   ]
  },
  {
   "cell_type": "code",
   "execution_count": 35,
   "metadata": {},
   "outputs": [
    {
     "name": "stdout",
     "output_type": "stream",
     "text": [
      "Fitting 10 folds for each of 1 candidates, totalling 10 fits\n"
     ]
    },
    {
     "name": "stderr",
     "output_type": "stream",
     "text": [
      "[Parallel(n_jobs=-1)]: Using backend LokyBackend with 4 concurrent workers.\n",
      "[Parallel(n_jobs=-1)]: Done  10 out of  10 | elapsed:    1.0s finished\n"
     ]
    },
    {
     "data": {
      "text/plain": [
       "GridSearchCV(cv=StratifiedShuffleSplit(n_splits=10, random_state=15, test_size=0.3,\n",
       "            train_size=None),\n",
       "             estimator=GradientBoostingClassifier(), n_jobs=-1,\n",
       "             param_grid={'learning_rate': [0.1], 'max_depth': [8],\n",
       "                         'max_features': ['sqrt'], 'min_samples_leaf': [50],\n",
       "                         'min_samples_split': [500], 'random_state': [10],\n",
       "                         'subsample': [0.8]},\n",
       "             scoring='accuracy', verbose=1)"
      ]
     },
     "execution_count": 35,
     "metadata": {},
     "output_type": "execute_result"
    }
   ],
   "source": [
    "# Building our model with K-fold validation and GridSearch to find the best parameters\n",
    "\n",
    "# Defining all the parameters\n",
    "\n",
    "params = {\n",
    "'learning_rate': [0.1], \n",
    "'min_samples_split': [500], \n",
    "'min_samples_leaf': [50], \n",
    "'max_depth': [8], \n",
    "'max_features': ['sqrt'], \n",
    "'subsample': [0.8], \n",
    "'random_state': [10]}\n",
    "\n",
    "\n",
    "# Building model\n",
    "gbc = GradientBoostingClassifier()\n",
    "\n",
    "# Parameter estimating using GridSearch\n",
    "grid = GridSearchCV(gbc, param_grid=params, scoring='accuracy', n_jobs =-1, cv=cv, verbose=1)\n",
    "\n",
    "# Fitting the model\n",
    "grid.fit(X_train, y_train)"
   ]
  },
  {
   "cell_type": "code",
   "execution_count": 36,
   "metadata": {},
   "outputs": [
    {
     "name": "stdout",
     "output_type": "stream",
     "text": [
      "Best Score: 0.7706616729088639\n",
      "Best Params: {'learning_rate': 0.1, 'max_depth': 8, 'max_features': 'sqrt', 'min_samples_leaf': 50, 'min_samples_split': 500, 'random_state': 10, 'subsample': 0.8}\n",
      "Best Estimator: GradientBoostingClassifier(max_depth=8, max_features='sqrt',\n",
      "                           min_samples_leaf=50, min_samples_split=500,\n",
      "                           random_state=10, subsample=0.8)\n"
     ]
    }
   ],
   "source": [
    "gbc_grid_val_score = grid.best_score_\n",
    "print('Best Score:', gbc_grid_val_score)\n",
    "print('Best Params:', grid.best_params_)\n",
    "print('Best Estimator:', grid.best_estimator_)"
   ]
  },
  {
   "cell_type": "code",
   "execution_count": 37,
   "metadata": {},
   "outputs": [],
   "source": [
    "# Using the best parameters from the grid-search and predicting on test feature dataset(X_test)\n",
    "\n",
    "gbc_grid= grid.best_estimator_\n",
    "y_pred = gbc_grid.predict(X_test)"
   ]
  },
  {
   "cell_type": "code",
   "execution_count": 38,
   "metadata": {},
   "outputs": [
    {
     "data": {
      "text/html": [
       "<div>\n",
       "<style scoped>\n",
       "    .dataframe tbody tr th:only-of-type {\n",
       "        vertical-align: middle;\n",
       "    }\n",
       "\n",
       "    .dataframe tbody tr th {\n",
       "        vertical-align: top;\n",
       "    }\n",
       "\n",
       "    .dataframe thead th {\n",
       "        text-align: right;\n",
       "    }\n",
       "</style>\n",
       "<table border=\"1\" class=\"dataframe\">\n",
       "  <thead>\n",
       "    <tr style=\"text-align: right;\">\n",
       "      <th></th>\n",
       "      <th>Predicted A</th>\n",
       "      <th>Predicted T</th>\n",
       "    </tr>\n",
       "  </thead>\n",
       "  <tbody>\n",
       "    <tr>\n",
       "      <th>Actual A</th>\n",
       "      <td>333</td>\n",
       "      <td>52</td>\n",
       "    </tr>\n",
       "    <tr>\n",
       "      <th>Actual T</th>\n",
       "      <td>93</td>\n",
       "      <td>190</td>\n",
       "    </tr>\n",
       "  </tbody>\n",
       "</table>\n",
       "</div>"
      ],
      "text/plain": [
       "          Predicted A  Predicted T\n",
       "Actual A          333           52\n",
       "Actual T           93          190"
      ]
     },
     "execution_count": 38,
     "metadata": {},
     "output_type": "execute_result"
    }
   ],
   "source": [
    "# Confusion matrix\n",
    "\n",
    "pd.DataFrame(confusion_matrix(y_test,y_pred), columns=[\"Predicted A\", \"Predicted T\"], index=[\"Actual A\",\"Actual T\"] )"
   ]
  },
  {
   "cell_type": "markdown",
   "metadata": {},
   "source": [
    "## G. Final model creation"
   ]
  },
  {
   "cell_type": "code",
   "execution_count": 39,
   "metadata": {},
   "outputs": [],
   "source": [
    "# The final model\n",
    "rfc = RandomForestClassifier(bootstrap=False, criterion='entropy', max_features=3,\n",
    "                       min_samples_leaf=10, min_samples_split=10,\n",
    "                       n_estimators=500)"
   ]
  },
  {
   "cell_type": "code",
   "execution_count": 40,
   "metadata": {},
   "outputs": [],
   "source": [
    "# The pre-requisite data cleaning\n",
    "test_data = test_data.drop(['Id', 'Areaname', 'countytownname', 'countyname'], axis=1) # Dropping the unnecessary columns\n",
    "\n",
    "test_data['storecode'].replace(storecode_dict, inplace=True)\n",
    "test_data['state_alpha'].replace(state_alpha_dict, inplace=True)\n",
    "test_data['store_Type'].replace(store_Type_dict, inplace=True)"
   ]
  },
  {
   "cell_type": "code",
   "execution_count": 41,
   "metadata": {},
   "outputs": [
    {
     "name": "stdout",
     "output_type": "stream",
     "text": [
      "<class 'pandas.core.frame.DataFrame'>\n",
      "RangeIndex: 1431 entries, 0 to 1430\n",
      "Data columns (total 12 columns):\n",
      " #   Column       Non-Null Count  Dtype  \n",
      "---  ------       --------------  -----  \n",
      " 0   sales0       1431 non-null   int64  \n",
      " 1   sales1       1431 non-null   int64  \n",
      " 2   sales2       1431 non-null   int64  \n",
      " 3   sales3       1431 non-null   int64  \n",
      " 4   sales4       1431 non-null   int64  \n",
      " 5   country      1430 non-null   float64\n",
      " 6   State        1431 non-null   int64  \n",
      " 7   CouSub       1431 non-null   int64  \n",
      " 8   storecode    1431 non-null   int64  \n",
      " 9   population   1430 non-null   float64\n",
      " 10  state_alpha  1431 non-null   int64  \n",
      " 11  store_Type   1431 non-null   int64  \n",
      "dtypes: float64(2), int64(10)\n",
      "memory usage: 134.3 KB\n"
     ]
    }
   ],
   "source": [
    "test_data.info()"
   ]
  },
  {
   "cell_type": "code",
   "execution_count": 42,
   "metadata": {},
   "outputs": [],
   "source": [
    "# Handling the null values present in test data columns\n",
    "test_data['country'].fillna(test_data['country'].median(), inplace=True)\n",
    "test_data['population'].fillna(test_data['population'].median(), inplace=True)"
   ]
  },
  {
   "cell_type": "code",
   "execution_count": 43,
   "metadata": {},
   "outputs": [],
   "source": [
    "test_input_data = test_data.to_numpy()"
   ]
  },
  {
   "cell_type": "code",
   "execution_count": 44,
   "metadata": {},
   "outputs": [],
   "source": [
    "test_input_data = scaler.fit_transform(test_input_data)"
   ]
  },
  {
   "cell_type": "code",
   "execution_count": 45,
   "metadata": {},
   "outputs": [
    {
     "data": {
      "text/plain": [
       "RandomForestClassifier(bootstrap=False, criterion='entropy', max_features=3,\n",
       "                       min_samples_leaf=10, min_samples_split=10,\n",
       "                       n_estimators=500)"
      ]
     },
     "execution_count": 45,
     "metadata": {},
     "output_type": "execute_result"
    }
   ],
   "source": [
    "rfc.fit(X, y) # Training the model with full dataset"
   ]
  },
  {
   "cell_type": "code",
   "execution_count": 46,
   "metadata": {},
   "outputs": [],
   "source": [
    "test_pred = rfc.predict(test_input_data)\n",
    "test_pred_prob = rfc.predict_proba(test_input_data)"
   ]
  },
  {
   "cell_type": "code",
   "execution_count": 47,
   "metadata": {},
   "outputs": [],
   "source": [
    "result_data['prediction'] = pd.Series(test_pred)\n",
    "result_data['prediction_probablitiy'] = pd.Series([i[1] for i in list(test_pred_prob)])"
   ]
  },
  {
   "cell_type": "code",
   "execution_count": 48,
   "metadata": {},
   "outputs": [
    {
     "data": {
      "text/html": [
       "<div>\n",
       "<style scoped>\n",
       "    .dataframe tbody tr th:only-of-type {\n",
       "        vertical-align: middle;\n",
       "    }\n",
       "\n",
       "    .dataframe tbody tr th {\n",
       "        vertical-align: top;\n",
       "    }\n",
       "\n",
       "    .dataframe thead th {\n",
       "        text-align: right;\n",
       "    }\n",
       "</style>\n",
       "<table border=\"1\" class=\"dataframe\">\n",
       "  <thead>\n",
       "    <tr style=\"text-align: right;\">\n",
       "      <th></th>\n",
       "      <th>Id</th>\n",
       "      <th>sales0</th>\n",
       "      <th>sales1</th>\n",
       "      <th>sales2</th>\n",
       "      <th>sales3</th>\n",
       "      <th>sales4</th>\n",
       "      <th>country</th>\n",
       "      <th>State</th>\n",
       "      <th>CouSub</th>\n",
       "      <th>countyname</th>\n",
       "      <th>storecode</th>\n",
       "      <th>Areaname</th>\n",
       "      <th>countytownname</th>\n",
       "      <th>population</th>\n",
       "      <th>state_alpha</th>\n",
       "      <th>store_Type</th>\n",
       "      <th>prediction</th>\n",
       "      <th>prediction_probablitiy</th>\n",
       "    </tr>\n",
       "  </thead>\n",
       "  <tbody>\n",
       "    <tr>\n",
       "      <th>0</th>\n",
       "      <td>101799999</td>\n",
       "      <td>696</td>\n",
       "      <td>511</td>\n",
       "      <td>514</td>\n",
       "      <td>867</td>\n",
       "      <td>1034</td>\n",
       "      <td>17.0</td>\n",
       "      <td>1</td>\n",
       "      <td>99999</td>\n",
       "      <td>Chambers County</td>\n",
       "      <td>NCNTY01017N01017</td>\n",
       "      <td>Chambers County, AL</td>\n",
       "      <td>Chambers County</td>\n",
       "      <td>34215.0</td>\n",
       "      <td>AL</td>\n",
       "      <td>Supermarket Type1</td>\n",
       "      <td>0</td>\n",
       "      <td>0.322640</td>\n",
       "    </tr>\n",
       "    <tr>\n",
       "      <th>1</th>\n",
       "      <td>101999999</td>\n",
       "      <td>599</td>\n",
       "      <td>481</td>\n",
       "      <td>500</td>\n",
       "      <td>883</td>\n",
       "      <td>894</td>\n",
       "      <td>19.0</td>\n",
       "      <td>1</td>\n",
       "      <td>99999</td>\n",
       "      <td>Cherokee County</td>\n",
       "      <td>NCNTY01019N01019</td>\n",
       "      <td>Cherokee County, AL</td>\n",
       "      <td>Cherokee County</td>\n",
       "      <td>25989.0</td>\n",
       "      <td>AL</td>\n",
       "      <td>Supermarket Type1</td>\n",
       "      <td>0</td>\n",
       "      <td>0.175543</td>\n",
       "    </tr>\n",
       "    <tr>\n",
       "      <th>2</th>\n",
       "      <td>102199999</td>\n",
       "      <td>599</td>\n",
       "      <td>423</td>\n",
       "      <td>475</td>\n",
       "      <td>802</td>\n",
       "      <td>1061</td>\n",
       "      <td>21.0</td>\n",
       "      <td>1</td>\n",
       "      <td>99999</td>\n",
       "      <td>Chilton County</td>\n",
       "      <td>METRO13820N01021</td>\n",
       "      <td>Chilton County, AL HUD Metro FMR Area</td>\n",
       "      <td>Chilton County</td>\n",
       "      <td>43643.0</td>\n",
       "      <td>AL</td>\n",
       "      <td>Supermarket Type1</td>\n",
       "      <td>0</td>\n",
       "      <td>0.312999</td>\n",
       "    </tr>\n",
       "    <tr>\n",
       "      <th>3</th>\n",
       "      <td>103599999</td>\n",
       "      <td>599</td>\n",
       "      <td>459</td>\n",
       "      <td>462</td>\n",
       "      <td>883</td>\n",
       "      <td>886</td>\n",
       "      <td>35.0</td>\n",
       "      <td>1</td>\n",
       "      <td>99999</td>\n",
       "      <td>Conecuh County</td>\n",
       "      <td>NCNTY01035N01035</td>\n",
       "      <td>Conecuh County, AL</td>\n",
       "      <td>Conecuh County</td>\n",
       "      <td>13228.0</td>\n",
       "      <td>AL</td>\n",
       "      <td>Supermarket Type1</td>\n",
       "      <td>0</td>\n",
       "      <td>0.197765</td>\n",
       "    </tr>\n",
       "    <tr>\n",
       "      <th>4</th>\n",
       "      <td>103799999</td>\n",
       "      <td>599</td>\n",
       "      <td>481</td>\n",
       "      <td>505</td>\n",
       "      <td>746</td>\n",
       "      <td>801</td>\n",
       "      <td>37.0</td>\n",
       "      <td>1</td>\n",
       "      <td>99999</td>\n",
       "      <td>Coosa County</td>\n",
       "      <td>NCNTY01037N01037</td>\n",
       "      <td>Coosa County, AL</td>\n",
       "      <td>Coosa County</td>\n",
       "      <td>11539.0</td>\n",
       "      <td>AL</td>\n",
       "      <td>Supermarket Type3</td>\n",
       "      <td>0</td>\n",
       "      <td>0.214415</td>\n",
       "    </tr>\n",
       "  </tbody>\n",
       "</table>\n",
       "</div>"
      ],
      "text/plain": [
       "          Id  sales0  sales1  sales2  sales3  sales4  country  State  CouSub  \\\n",
       "0  101799999     696     511     514     867    1034     17.0      1   99999   \n",
       "1  101999999     599     481     500     883     894     19.0      1   99999   \n",
       "2  102199999     599     423     475     802    1061     21.0      1   99999   \n",
       "3  103599999     599     459     462     883     886     35.0      1   99999   \n",
       "4  103799999     599     481     505     746     801     37.0      1   99999   \n",
       "\n",
       "        countyname         storecode                               Areaname  \\\n",
       "0  Chambers County  NCNTY01017N01017                    Chambers County, AL   \n",
       "1  Cherokee County  NCNTY01019N01019                    Cherokee County, AL   \n",
       "2   Chilton County  METRO13820N01021  Chilton County, AL HUD Metro FMR Area   \n",
       "3   Conecuh County  NCNTY01035N01035                     Conecuh County, AL   \n",
       "4     Coosa County  NCNTY01037N01037                       Coosa County, AL   \n",
       "\n",
       "    countytownname  population state_alpha         store_Type  prediction  \\\n",
       "0  Chambers County     34215.0          AL  Supermarket Type1           0   \n",
       "1  Cherokee County     25989.0          AL  Supermarket Type1           0   \n",
       "2   Chilton County     43643.0          AL  Supermarket Type1           0   \n",
       "3   Conecuh County     13228.0          AL  Supermarket Type1           0   \n",
       "4     Coosa County     11539.0          AL  Supermarket Type3           0   \n",
       "\n",
       "   prediction_probablitiy  \n",
       "0                0.322640  \n",
       "1                0.175543  \n",
       "2                0.312999  \n",
       "3                0.197765  \n",
       "4                0.214415  "
      ]
     },
     "execution_count": 48,
     "metadata": {},
     "output_type": "execute_result"
    }
   ],
   "source": [
    "result_data.head()"
   ]
  },
  {
   "cell_type": "code",
   "execution_count": 52,
   "metadata": {},
   "outputs": [
    {
     "data": {
      "text/html": [
       "<div>\n",
       "<style scoped>\n",
       "    .dataframe tbody tr th:only-of-type {\n",
       "        vertical-align: middle;\n",
       "    }\n",
       "\n",
       "    .dataframe tbody tr th {\n",
       "        vertical-align: top;\n",
       "    }\n",
       "\n",
       "    .dataframe thead th {\n",
       "        text-align: right;\n",
       "    }\n",
       "</style>\n",
       "<table border=\"1\" class=\"dataframe\">\n",
       "  <thead>\n",
       "    <tr style=\"text-align: right;\">\n",
       "      <th></th>\n",
       "      <th>Id</th>\n",
       "      <th>sales0</th>\n",
       "      <th>sales1</th>\n",
       "      <th>sales2</th>\n",
       "      <th>sales3</th>\n",
       "      <th>sales4</th>\n",
       "      <th>country</th>\n",
       "      <th>State</th>\n",
       "      <th>CouSub</th>\n",
       "      <th>countyname</th>\n",
       "      <th>storecode</th>\n",
       "      <th>Areaname</th>\n",
       "      <th>countytownname</th>\n",
       "      <th>population</th>\n",
       "      <th>state_alpha</th>\n",
       "      <th>store_Type</th>\n",
       "      <th>prediction</th>\n",
       "      <th>prediction_probablitiy</th>\n",
       "    </tr>\n",
       "  </thead>\n",
       "  <tbody>\n",
       "    <tr>\n",
       "      <th>1426</th>\n",
       "      <td>2202599999</td>\n",
       "      <td>627</td>\n",
       "      <td>493</td>\n",
       "      <td>524</td>\n",
       "      <td>924</td>\n",
       "      <td>1010</td>\n",
       "      <td>25.0</td>\n",
       "      <td>22</td>\n",
       "      <td>99999</td>\n",
       "      <td>Catahoula Parish</td>\n",
       "      <td>NCNTY22025N22025</td>\n",
       "      <td>Catahoula Parish, LA</td>\n",
       "      <td>Catahoula Parish</td>\n",
       "      <td>10407.0</td>\n",
       "      <td>LA</td>\n",
       "      <td>Supermarket Type1</td>\n",
       "      <td>0</td>\n",
       "      <td>0.165560</td>\n",
       "    </tr>\n",
       "    <tr>\n",
       "      <th>1427</th>\n",
       "      <td>4826999999</td>\n",
       "      <td>651</td>\n",
       "      <td>461</td>\n",
       "      <td>506</td>\n",
       "      <td>811</td>\n",
       "      <td>944</td>\n",
       "      <td>269.0</td>\n",
       "      <td>48</td>\n",
       "      <td>99999</td>\n",
       "      <td>King County</td>\n",
       "      <td>NCNTY48269N48269</td>\n",
       "      <td>King County, TX</td>\n",
       "      <td>King County</td>\n",
       "      <td>286.0</td>\n",
       "      <td>TX</td>\n",
       "      <td>Supermarket Type1</td>\n",
       "      <td>0</td>\n",
       "      <td>0.276396</td>\n",
       "    </tr>\n",
       "    <tr>\n",
       "      <th>1428</th>\n",
       "      <td>2301333840</td>\n",
       "      <td>922</td>\n",
       "      <td>743</td>\n",
       "      <td>748</td>\n",
       "      <td>1182</td>\n",
       "      <td>1232</td>\n",
       "      <td>13.0</td>\n",
       "      <td>23</td>\n",
       "      <td>33840</td>\n",
       "      <td>Knox County</td>\n",
       "      <td>NCNTY23013N23013</td>\n",
       "      <td>Knox County, ME</td>\n",
       "      <td>Hope town</td>\n",
       "      <td>1536.0</td>\n",
       "      <td>ME</td>\n",
       "      <td>Supermarket Type3</td>\n",
       "      <td>0</td>\n",
       "      <td>0.284614</td>\n",
       "    </tr>\n",
       "    <tr>\n",
       "      <th>1429</th>\n",
       "      <td>1908199999</td>\n",
       "      <td>593</td>\n",
       "      <td>402</td>\n",
       "      <td>438</td>\n",
       "      <td>739</td>\n",
       "      <td>862</td>\n",
       "      <td>81.0</td>\n",
       "      <td>19</td>\n",
       "      <td>99999</td>\n",
       "      <td>Hancock County</td>\n",
       "      <td>NCNTY19081N19081</td>\n",
       "      <td>Hancock County, IA</td>\n",
       "      <td>Hancock County</td>\n",
       "      <td>11341.0</td>\n",
       "      <td>IA</td>\n",
       "      <td>Supermarket Type1</td>\n",
       "      <td>0</td>\n",
       "      <td>0.056396</td>\n",
       "    </tr>\n",
       "    <tr>\n",
       "      <th>1430</th>\n",
       "      <td>2302559705</td>\n",
       "      <td>746</td>\n",
       "      <td>599</td>\n",
       "      <td>627</td>\n",
       "      <td>1015</td>\n",
       "      <td>1019</td>\n",
       "      <td>25.0</td>\n",
       "      <td>23</td>\n",
       "      <td>59705</td>\n",
       "      <td>Somerset County</td>\n",
       "      <td>NCNTY23025N23025</td>\n",
       "      <td>Somerset County, ME</td>\n",
       "      <td>Pleasant Ridge plantation</td>\n",
       "      <td>93.0</td>\n",
       "      <td>ME</td>\n",
       "      <td>Supermarket Type1</td>\n",
       "      <td>0</td>\n",
       "      <td>0.266544</td>\n",
       "    </tr>\n",
       "  </tbody>\n",
       "</table>\n",
       "</div>"
      ],
      "text/plain": [
       "              Id  sales0  sales1  sales2  sales3  sales4  country  State  \\\n",
       "1426  2202599999     627     493     524     924    1010     25.0     22   \n",
       "1427  4826999999     651     461     506     811     944    269.0     48   \n",
       "1428  2301333840     922     743     748    1182    1232     13.0     23   \n",
       "1429  1908199999     593     402     438     739     862     81.0     19   \n",
       "1430  2302559705     746     599     627    1015    1019     25.0     23   \n",
       "\n",
       "      CouSub        countyname         storecode              Areaname  \\\n",
       "1426   99999  Catahoula Parish  NCNTY22025N22025  Catahoula Parish, LA   \n",
       "1427   99999       King County  NCNTY48269N48269       King County, TX   \n",
       "1428   33840       Knox County  NCNTY23013N23013       Knox County, ME   \n",
       "1429   99999    Hancock County  NCNTY19081N19081    Hancock County, IA   \n",
       "1430   59705   Somerset County  NCNTY23025N23025   Somerset County, ME   \n",
       "\n",
       "                 countytownname  population state_alpha         store_Type  \\\n",
       "1426           Catahoula Parish     10407.0          LA  Supermarket Type1   \n",
       "1427                King County       286.0          TX  Supermarket Type1   \n",
       "1428                  Hope town      1536.0          ME  Supermarket Type3   \n",
       "1429             Hancock County     11341.0          IA  Supermarket Type1   \n",
       "1430  Pleasant Ridge plantation        93.0          ME  Supermarket Type1   \n",
       "\n",
       "      prediction  prediction_probablitiy  \n",
       "1426           0                0.165560  \n",
       "1427           0                0.276396  \n",
       "1428           0                0.284614  \n",
       "1429           0                0.056396  \n",
       "1430           0                0.266544  "
      ]
     },
     "execution_count": 52,
     "metadata": {},
     "output_type": "execute_result"
    }
   ],
   "source": [
    "result_data.tail()"
   ]
  },
  {
   "cell_type": "code",
   "execution_count": 53,
   "metadata": {},
   "outputs": [
    {
     "data": {
      "text/plain": [
       "0    900\n",
       "1    531\n",
       "Name: prediction, dtype: int64"
      ]
     },
     "execution_count": 53,
     "metadata": {},
     "output_type": "execute_result"
    }
   ],
   "source": [
    "result_data['prediction'].value_counts()"
   ]
  },
  {
   "cell_type": "code",
   "execution_count": 49,
   "metadata": {},
   "outputs": [
    {
     "data": {
      "text/plain": [
       "(1431, 18)"
      ]
     },
     "execution_count": 49,
     "metadata": {},
     "output_type": "execute_result"
    }
   ],
   "source": [
    "result_data.shape"
   ]
  },
  {
   "cell_type": "code",
   "execution_count": 54,
   "metadata": {},
   "outputs": [],
   "source": [
    "result_data.to_csv('bitan_project2_result.csv')"
   ]
  },
  {
   "cell_type": "code",
   "execution_count": null,
   "metadata": {},
   "outputs": [],
   "source": []
  }
 ],
 "metadata": {
  "kernelspec": {
   "display_name": "Python 3",
   "language": "python",
   "name": "python3"
  },
  "language_info": {
   "codemirror_mode": {
    "name": "ipython",
    "version": 3
   },
   "file_extension": ".py",
   "mimetype": "text/x-python",
   "name": "python",
   "nbconvert_exporter": "python",
   "pygments_lexer": "ipython3",
   "version": "3.8.3"
  }
 },
 "nbformat": 4,
 "nbformat_minor": 4
}
